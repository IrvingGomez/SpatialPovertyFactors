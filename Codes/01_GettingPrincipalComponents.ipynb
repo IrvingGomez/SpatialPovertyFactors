{
 "cells": [
  {
   "cell_type": "code",
   "execution_count": 13,
   "metadata": {},
   "outputs": [],
   "source": [
    "import pandas as pd\n",
    "import geopandas as gpd\n",
    "import matplotlib.pyplot as plt\n",
    "\n",
    "from sklearn.preprocessing import robust_scale\n",
    "from sklearn.decomposition import PCA"
   ]
  },
  {
   "cell_type": "markdown",
   "metadata": {},
   "source": [
    "Read data"
   ]
  },
  {
   "cell_type": "code",
   "execution_count": 2,
   "metadata": {},
   "outputs": [],
   "source": [
    "ThailandMap = gpd.read_file(\"../../../Data/Enriched/ThailandMapProvinceIdRegion/ThailandMapProvinceIdRegion.shp\")\n",
    "ThailandMap = ThailandMap.rename(columns={'RegionInTh':'RegionInThai'})\n",
    "\n",
    "ThailandMap['Region'] = ThailandMap['Region'].replace(\n",
    "    {\n",
    "        'NorthernThailand': 'Northern Thailand'\n",
    "        , 'SouthernThailand': 'Southern Thailand'\n",
    "        , 'WesternThailand': 'Western Thailand'\n",
    "        , 'EasternThailand': 'Eastern Thailand'\n",
    "        , 'NortheastThailand': 'Northeast Thailand'\n",
    "        , 'CentralThailand': 'Central Thailand'\n",
    "    }\n",
    ")\n",
    "\n",
    "ThailandMap = ThailandMap.sort_values('ProvinceId').reset_index(drop=True)\n",
    "\n",
    "ThailandMapWithoutBkk = ThailandMap[ThailandMap['Name']!='Bangkok'].reset_index(drop=True)\n",
    "ThailandMap = pd.concat([ThailandMapWithoutBkk, ThailandMap[ThailandMap['Name']=='Bangkok']]).reset_index(drop=True)"
   ]
  },
  {
   "cell_type": "code",
   "execution_count": 3,
   "metadata": {},
   "outputs": [],
   "source": [
    "Dat = pd.read_csv(\"../../../Data/Processed/DataProvince.csv\")\n",
    "Dat = Dat.sort_values('ProvinceId').reset_index(drop=True)"
   ]
  },
  {
   "cell_type": "code",
   "execution_count": 4,
   "metadata": {},
   "outputs": [],
   "source": [
    "Dat['MonthlyIncomeRatio2020'] = Dat['MonthlyIncomeQuantile80'] / Dat['MonthlyIncomeQuantile20']"
   ]
  },
  {
   "cell_type": "markdown",
   "metadata": {},
   "source": [
    "Select the variables for the PCA"
   ]
  },
  {
   "cell_type": "code",
   "execution_count": 5,
   "metadata": {},
   "outputs": [],
   "source": [
    "Variables = [\n",
    "    'MonthlyIncomeMean'\n",
    "    , 'MonthlyIncomeGiniIndex'\n",
    "    , 'MonthlyIncomeRatio2020'\n",
    "    , 'IndicatorFormalDebtMean'\n",
    "    , 'YearlySavingsPositiveMean'\n",
    "    , 'YearsOfEducation'\n",
    "    , 'Indicator25Mean'\n",
    "    , 'Indicator23Mean'\n",
    "    , 'Indicator24Mean'\n",
    "]"
   ]
  },
  {
   "cell_type": "code",
   "execution_count": 6,
   "metadata": {},
   "outputs": [],
   "source": [
    "RenameVariables = {\n",
    "    'MonthlyIncomeMean': \"Monthly Income\"\n",
    "    , 'MonthlyIncomeGiniIndex': \"Gini Index\"\n",
    "    , 'MonthlyIncomeRatio2020': \"Income Ratio 20:20\"\n",
    "    , 'IndicatorFormalDebtMean': \"Percent Formal Debt\"\n",
    "    , 'YearlySavingsPositiveMean': \"Yearly Savings\"\n",
    "    , 'YearsOfEducation': \"Years Of Education\"\n",
    "    , 'Indicator25Mean': \"Smoking\"\n",
    "    , 'Indicator23Mean': \"Having No Savings\"\n",
    "    , 'Indicator24Mean': \"Alcohol Consumption\"\n",
    "}"
   ]
  },
  {
   "cell_type": "code",
   "execution_count": 7,
   "metadata": {},
   "outputs": [],
   "source": [
    "DatVariables = Dat[Variables]\n",
    "DatVariables = DatVariables.rename(columns=RenameVariables)\n",
    "\n",
    "Variables = list(DatVariables.columns)\n",
    "\n",
    "DatScaled = robust_scale(DatVariables)\n",
    "DatScaled = pd.DataFrame(DatScaled, columns=DatVariables.columns)"
   ]
  },
  {
   "cell_type": "markdown",
   "metadata": {},
   "source": [
    "PCA"
   ]
  },
  {
   "cell_type": "code",
   "execution_count": 8,
   "metadata": {},
   "outputs": [],
   "source": [
    "PcaModel = PCA(n_components=2)\n",
    "PcaFit = PcaModel.fit(DatScaled)\n",
    "PcaDat = PcaFit.transform(DatScaled)\n",
    "PcaDat = pd.DataFrame(PcaDat, columns=['PC1', 'PC2'])\n",
    "\n",
    "PcaDat['Region'] = ThailandMapWithoutBkk['Region']\n",
    "PcaDat['Name'] = ThailandMapWithoutBkk['Name']\n",
    "PcaDat['ProvinceId'] = ThailandMapWithoutBkk['ProvinceId']"
   ]
  },
  {
   "cell_type": "code",
   "execution_count": 9,
   "metadata": {},
   "outputs": [],
   "source": [
    "PcaLoads = PcaFit.components_\n",
    "PcaLoads = pd.DataFrame(PcaLoads.T, columns=['PCA1', 'PCA2'])\n",
    "PcaLoads['Variable'] = Variables\n",
    "PcaLoads = PcaLoads.set_index('Variable')"
   ]
  },
  {
   "cell_type": "code",
   "execution_count": 12,
   "metadata": {},
   "outputs": [
    {
     "data": {
      "text/html": [
       "<div>\n",
       "<style scoped>\n",
       "    .dataframe tbody tr th:only-of-type {\n",
       "        vertical-align: middle;\n",
       "    }\n",
       "\n",
       "    .dataframe tbody tr th {\n",
       "        vertical-align: top;\n",
       "    }\n",
       "\n",
       "    .dataframe thead th {\n",
       "        text-align: right;\n",
       "    }\n",
       "</style>\n",
       "<table border=\"1\" class=\"dataframe\">\n",
       "  <thead>\n",
       "    <tr style=\"text-align: right;\">\n",
       "      <th></th>\n",
       "      <th>PCA1</th>\n",
       "      <th>PCA2</th>\n",
       "    </tr>\n",
       "    <tr>\n",
       "      <th>Variable</th>\n",
       "      <th></th>\n",
       "      <th></th>\n",
       "    </tr>\n",
       "  </thead>\n",
       "  <tbody>\n",
       "    <tr>\n",
       "      <th>Monthly Income</th>\n",
       "      <td>0.40</td>\n",
       "      <td>0.33</td>\n",
       "    </tr>\n",
       "    <tr>\n",
       "      <th>Gini Index</th>\n",
       "      <td>-0.02</td>\n",
       "      <td>0.61</td>\n",
       "    </tr>\n",
       "    <tr>\n",
       "      <th>Income Ratio 20:20</th>\n",
       "      <td>0.09</td>\n",
       "      <td>0.43</td>\n",
       "    </tr>\n",
       "    <tr>\n",
       "      <th>Percent Formal Debt</th>\n",
       "      <td>-0.39</td>\n",
       "      <td>0.04</td>\n",
       "    </tr>\n",
       "    <tr>\n",
       "      <th>Yearly Savings</th>\n",
       "      <td>0.24</td>\n",
       "      <td>0.13</td>\n",
       "    </tr>\n",
       "    <tr>\n",
       "      <th>Years Of Education</th>\n",
       "      <td>0.51</td>\n",
       "      <td>-0.10</td>\n",
       "    </tr>\n",
       "    <tr>\n",
       "      <th>Smoking</th>\n",
       "      <td>-0.21</td>\n",
       "      <td>-0.34</td>\n",
       "    </tr>\n",
       "    <tr>\n",
       "      <th>Having No Savings</th>\n",
       "      <td>0.34</td>\n",
       "      <td>-0.42</td>\n",
       "    </tr>\n",
       "    <tr>\n",
       "      <th>Alcohol Consumption</th>\n",
       "      <td>-0.45</td>\n",
       "      <td>0.11</td>\n",
       "    </tr>\n",
       "  </tbody>\n",
       "</table>\n",
       "</div>"
      ],
      "text/plain": [
       "                     PCA1  PCA2\n",
       "Variable                       \n",
       "Monthly Income       0.40  0.33\n",
       "Gini Index          -0.02  0.61\n",
       "Income Ratio 20:20   0.09  0.43\n",
       "Percent Formal Debt -0.39  0.04\n",
       "Yearly Savings       0.24  0.13\n",
       "Years Of Education   0.51 -0.10\n",
       "Smoking             -0.21 -0.34\n",
       "Having No Savings    0.34 -0.42\n",
       "Alcohol Consumption -0.45  0.11"
      ]
     },
     "execution_count": 12,
     "metadata": {},
     "output_type": "execute_result"
    }
   ],
   "source": [
    "PcaLoads.round(2)"
   ]
  },
  {
   "cell_type": "code",
   "execution_count": 11,
   "metadata": {},
   "outputs": [],
   "source": [
    "# PcaDat.to_csv(\"../../../Data/Processed/DataPcaMyVariables.csv\", index=False)"
   ]
  },
  {
   "cell_type": "code",
   "execution_count": 14,
   "metadata": {},
   "outputs": [
    {
     "data": {
      "text/plain": [
       "[<matplotlib.lines.Line2D at 0x7f942837b4d0>]"
      ]
     },
     "execution_count": 14,
     "metadata": {},
     "output_type": "execute_result"
    },
    {
     "data": {
      "image/png": "[encoded data removed]",
      "text/plain": [
       "<Figure size 640x480 with 1 Axes>"
      ]
     },
     "metadata": {},
     "output_type": "display_data"
    }
   ],
   "source": [
    "PcaModel = PCA(n_components=len(Variables))\n",
    "PcaFit = PcaModel.fit(DatScaled)\n",
    "PcaDat = PcaFit.transform(DatScaled)\n",
    "\n",
    "plt.plot(range(1, len(Variables)+1), PcaFit.explained_variance_ratio_.cumsum())"
   ]
  },
  {
   "cell_type": "code",
   "execution_count": 16,
   "metadata": {},
   "outputs": [
    {
     "data": {
      "text/plain": [
       "array([0.38, 0.61, 0.74, 0.86, 0.9 , 0.94, 0.97, 0.98, 1.  ])"
      ]
     },
     "execution_count": 16,
     "metadata": {},
     "output_type": "execute_result"
    }
   ],
   "source": [
    "PcaFit.explained_variance_ratio_.cumsum().round(2)"
   ]
  }
 ],
 "metadata": {
  "kernelspec": {
   "display_name": "Python 3",
   "language": "python",
   "name": "python3"
  },
  "language_info": {
   "codemirror_mode": {
    "name": "ipython",
    "version": 3
   },
   "file_extension": ".py",
   "mimetype": "text/x-python",
   "name": "python",
   "nbconvert_exporter": "python",
   "pygments_lexer": "ipython3",
   "version": "3.11.6"
  },
  "orig_nbformat": 4
 },
 "nbformat": 4,
 "nbformat_minor": 2
}
